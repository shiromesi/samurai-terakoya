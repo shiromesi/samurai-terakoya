{
  "nbformat": 4,
  "nbformat_minor": 0,
  "metadata": {
    "colab": {
      "provenance": []
    },
    "kernelspec": {
      "name": "python3",
      "display_name": "Python 3"
    },
    "language_info": {
      "name": "python"
    }
  },
  "cells": [
    {
      "cell_type": "code",
      "execution_count": 1,
      "metadata": {
        "colab": {
          "base_uri": "https://localhost:8080/"
        },
        "id": "NIhw8QZySodk",
        "outputId": "da5b13d5-5deb-4887-d762-fed81c923c4f"
      },
      "outputs": [
        {
          "output_type": "stream",
          "name": "stdout",
          "text": [
            "1100.0円\n"
          ]
        }
      ],
      "source": [
        "def add_two_arguments(price,consumption_tax):\n",
        "#与えられた引数priceと引数consumption_taxを乗じて変数totalに代入する\n",
        " total=price*consumption_tax\n",
        "\n",
        "#変数＄totalの値を出力する\n",
        " print(f\"{total}円\")\n",
        "\n",
        "#関数を呼び出し、引数として購入金額と消費税を渡す\n",
        "add_two_arguments(1000,1.1)"
      ]
    }
  ]
}