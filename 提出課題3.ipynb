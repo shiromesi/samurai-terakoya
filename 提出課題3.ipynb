{
  "nbformat": 4,
  "nbformat_minor": 0,
  "metadata": {
    "colab": {
      "provenance": []
    },
    "kernelspec": {
      "name": "python3",
      "display_name": "Python 3"
    },
    "language_info": {
      "name": "python"
    }
  },
  "cells": [
    {
      "cell_type": "code",
      "execution_count": 4,
      "metadata": {
        "colab": {
          "base_uri": "https://localhost:8080/"
        },
        "id": "HTYopC1TdLnr",
        "outputId": "d28be69b-25c2-4556-ff0f-76fc3f5d8853"
      },
      "outputs": [
        {
          "output_type": "stream",
          "name": "stdout",
          "text": [
            "何か数値を入力してください:15\n",
            "FizzBuzz\n"
          ]
        }
      ],
      "source": [
        "#変数varが3の倍数の場合はFizz、5の倍数の場合はBuzz、3と5の倍数の場合はFizzBuzz、それ以外の場合は変数varを出力する\n",
        "\n",
        "var=input(\"何か数値を入力してください:\")\n",
        "var=int(var)\n",
        "\n",
        "if var%15== 0:\n",
        "  print(\"FizzBuzz\")\n",
        "elif var%3== 0:\n",
        "    print(\"Fizz\")\n",
        "elif var%5== 0:\n",
        "    print(\"Buzz\")\n",
        "else:\n",
        "    print(\"var\")"
      ]
    }
  ]
}